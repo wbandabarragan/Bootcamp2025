{
  "nbformat": 4,
  "nbformat_minor": 0,
  "metadata": {
    "colab": {
      "provenance": [],
      "authorship_tag": "ABX9TyO190qlhlzcqrHS6eGQodPr",
      "include_colab_link": true
    },
    "kernelspec": {
      "name": "python3",
      "display_name": "Python 3"
    },
    "language_info": {
      "name": "python"
    }
  },
  "cells": [
    {
      "cell_type": "markdown",
      "metadata": {
        "id": "view-in-github",
        "colab_type": "text"
      },
      "source": [
        "<a href=\"https://colab.research.google.com/github/wbandabarragan/Bootcamp2025/blob/main/CursoC_Semana3/fortran_on_Colab.ipynb\" target=\"_parent\"><img src=\"https://colab.research.google.com/assets/colab-badge.svg\" alt=\"Open In Colab\"/></a>"
      ]
    },
    {
      "cell_type": "code",
      "execution_count": 25,
      "metadata": {
        "id": "p6_461wQSs-q"
      },
      "outputs": [],
      "source": [
        "# Fortran compiler\n",
        "!apt-get install -y gfortran -qq"
      ]
    },
    {
      "cell_type": "code",
      "source": [
        "# Import libraries\n",
        "from google.colab import drive"
      ],
      "metadata": {
        "id": "KPpWRsUKS9YC"
      },
      "execution_count": 26,
      "outputs": []
    },
    {
      "cell_type": "code",
      "source": [
        "# Mount Google Drive\n",
        "print(\"Mounting Google Drive...\")\n",
        "drive.mount('/content/drive')"
      ],
      "metadata": {
        "colab": {
          "base_uri": "https://localhost:8080/"
        },
        "id": "wTGDWgrUS-yQ",
        "outputId": "cf2be420-21d7-4d33-915e-aa7681266c03"
      },
      "execution_count": 27,
      "outputs": [
        {
          "output_type": "stream",
          "name": "stdout",
          "text": [
            "Mounting Google Drive...\n",
            "Drive already mounted at /content/drive; to attempt to forcibly remount, call drive.mount(\"/content/drive\", force_remount=True).\n"
          ]
        }
      ]
    },
    {
      "cell_type": "code",
      "source": [
        "!pwd"
      ],
      "metadata": {
        "colab": {
          "base_uri": "https://localhost:8080/"
        },
        "id": "LVFOwMSkTDNC",
        "outputId": "ecdeba9b-d035-4e91-94d6-275e59f72efb"
      },
      "execution_count": 28,
      "outputs": [
        {
          "output_type": "stream",
          "name": "stdout",
          "text": [
            "/content\n"
          ]
        }
      ]
    },
    {
      "cell_type": "code",
      "source": [
        "!ls -ltr"
      ],
      "metadata": {
        "colab": {
          "base_uri": "https://localhost:8080/"
        },
        "id": "mS5qwte5TEO0",
        "outputId": "1f4ecc73-4869-4527-9a49-46c518df6569"
      },
      "execution_count": 29,
      "outputs": [
        {
          "output_type": "stream",
          "name": "stdout",
          "text": [
            "total 28\n",
            "drwxr-xr-x 1 root root  4096 Jul 22 13:37 sample_data\n",
            "drwx------ 6 root root  4096 Jul 23 17:19 drive\n",
            "-rw-r--r-- 1 root root    57 Jul 23 17:22 hello.f90\n",
            "-rwxr-xr-x 1 root root 16208 Jul 23 17:23 hello\n"
          ]
        }
      ]
    },
    {
      "cell_type": "code",
      "source": [
        "!cat hello.f90"
      ],
      "metadata": {
        "colab": {
          "base_uri": "https://localhost:8080/"
        },
        "id": "n0DgsWRRTVmk",
        "outputId": "e8483859-fccd-4bcb-a285-88e409d8aafb"
      },
      "execution_count": 30,
      "outputs": [
        {
          "output_type": "stream",
          "name": "stdout",
          "text": [
            "program hello; print *, \"Hola Mundo!\"; end program hello\n"
          ]
        }
      ]
    },
    {
      "cell_type": "code",
      "source": [
        "# Create F90 file\n",
        "%%bash\n",
        "echo 'program hello; print *, \"Hola Mundo!\"; end program hello' > hello.f90"
      ],
      "metadata": {
        "id": "IsSDGduxStff"
      },
      "execution_count": 31,
      "outputs": []
    },
    {
      "cell_type": "code",
      "source": [
        "# Compile Fortran code\n",
        "!gfortran hello.f90 -o hello && ./hello"
      ],
      "metadata": {
        "colab": {
          "base_uri": "https://localhost:8080/"
        },
        "id": "7jdOJsp-S32d",
        "outputId": "53a15b18-5dd7-442a-c7c9-acd77edda446"
      },
      "execution_count": 32,
      "outputs": [
        {
          "output_type": "stream",
          "name": "stdout",
          "text": [
            " Hola Mundo!\n"
          ]
        }
      ]
    },
    {
      "cell_type": "code",
      "source": [],
      "metadata": {
        "id": "zt1Eo65tS4ef"
      },
      "execution_count": 23,
      "outputs": []
    }
  ]
}